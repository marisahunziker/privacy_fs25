{
 "cells": [
  {
   "cell_type": "code",
   "execution_count": 94,
   "id": "f34833ee",
   "metadata": {},
   "outputs": [],
   "source": [
    "import torch \n",
    "from torch.utils.data import TensorDataset\n",
    "\n",
    "import pandas as pd\n",
    "\n",
    "from sklearn.model_selection import train_test_split\n",
    "from sklearn.preprocessing import LabelEncoder"
   ]
  },
  {
   "cell_type": "code",
   "execution_count": 81,
   "id": "1255a918",
   "metadata": {},
   "outputs": [
    {
     "name": "stdout",
     "output_type": "stream",
     "text": [
      "   userId  movieId  rating  gender  age  occupation  zip_code\n",
      "0       0     1192     5.0       0    0          10        48\n",
      "1       0      660     3.0       0    0          10        48\n",
      "2       0      913     3.0       0    0          10        48\n",
      "3       0     3407     4.0       0    0          10        48\n",
      "4       0     2354     5.0       0    0          10        48\n"
     ]
    }
   ],
   "source": [
    "ratings_columns = ['userId', 'movieId', 'rating', 'timestamp']\n",
    "users_columns = ['userId', 'gender', 'age', 'occupation', 'zip_code']\n",
    "movie_columns = ['movieId', 'title', 'genres']\n",
    "\n",
    "def load_movielens():\n",
    "    \"\"\"Load the MovieLens datasets.\"\"\"\n",
    "    ratings_df = pd.read_csv(filepath_or_buffer='data/ml-1m/ratings.dat', sep='::', header=None, names=ratings_columns, encoding='latin-1', engine='python')\n",
    "    ratings_df.drop(columns='timestamp', inplace=True) # Drop timestamp column\n",
    "    ratings_df['rating'] = ratings_df['rating'].astype(float)  # Ensure ratings are float\n",
    "    ratings_df['userId'] = ratings_df['userId'].astype(int) - 1  # Ensure userId is int\n",
    "    ratings_df['movieId'] = ratings_df['movieId'].astype(int) - 1  # Ensure movieId is int\n",
    "\n",
    "    users_df = pd.read_csv(filepath_or_buffer='data/ml-1m/users.dat', sep='::', header=None, names=users_columns, encoding='latin-1', engine='python')\n",
    "    users_df['userId'] = users_df['userId'].astype(int) - 1  # Ensure userId is int\n",
    "    users_df['gender'] = LabelEncoder().fit_transform(users_df['gender'])  # Encode gender as numeric 0/1\n",
    "    users_df['age'] = LabelEncoder().fit_transform(users_df['age'])  # Encode age as numeric\n",
    "    users_df['occupation'] = users_df['occupation'].astype(int)  # Ensure occupation is int\n",
    "    users_df['zip_code'] = users_df['zip_code'].astype(str).str[:2]\n",
    "    users_df['zip_code'] = LabelEncoder().fit_transform(users_df['zip_code'])  # Encode zip_code as numeric\n",
    "\n",
    "    return ratings_df, users_df\n",
    "\n",
    "ratings_df, users_df = load_movielens()\n",
    "\n",
    "df = ratings_df.merge(users_df, on='userId')\n",
    "\n",
    "print(df.head(5))\n"
   ]
  },
  {
   "cell_type": "code",
   "execution_count": 82,
   "id": "e1cd7227",
   "metadata": {},
   "outputs": [],
   "source": [
    "user_ids = torch.tensor(df['userId'].values, dtype=torch.long)\n",
    "movie_ids = torch.tensor(df['movieId'].values, dtype=torch.long)\n",
    "ratings = torch.tensor(df['rating'].values, dtype=torch.float32)\n",
    "genders = torch.tensor(df['gender'].values, dtype=torch.long)\n",
    "ages = torch.tensor(df['age'].values, dtype=torch.long)\n",
    "occupations = torch.tensor(df['occupation'].values, dtype=torch.long)\n",
    "zip_codes = torch.tensor(df['zip_code'].values, dtype=torch.long)"
   ]
  },
  {
   "cell_type": "code",
   "execution_count": 83,
   "id": "df3b8e0b",
   "metadata": {},
   "outputs": [],
   "source": [
    "dataset = TensorDataset(user_ids, movie_ids, ratings, genders, ages, occupations, zip_codes)\n",
    "\n",
    "# Split the dataset into train, test, and validation sets. 70% train, 15% test, 15% validation\n",
    "train_dataset, temp_test_dataset = train_test_split(dataset, test_size=0.3, random_state=42, shuffle=True)\n",
    "test_dataset, val_dataset = train_test_split(temp_test_dataset, test_size=0.5, random_state=42)\n",
    "\n",
    "# Save the datasets\n",
    "torch.save(train_dataset, 'datasets/train_dataset.pt')\n",
    "torch.save(test_dataset, 'datasets/test_dataset.pt')\n",
    "torch.save(val_dataset, 'datasets/val_dataset.pt')\n",
    "\n",
    "\n"
   ]
  },
  {
   "cell_type": "code",
   "execution_count": 89,
   "id": "9e997466",
   "metadata": {},
   "outputs": [
    {
     "name": "stdout",
     "output_type": "stream",
     "text": [
      "Number of users: 6040\n",
      "Number of movies: 3952\n",
      "Number of unique genders: 2\n",
      "Number of unique ages: 7\n",
      "Number of unique occupations: 21\n",
      "Number of unique zip codes: 100\n"
     ]
    }
   ],
   "source": [
    "# Save metadata\n",
    "n_users = user_ids.max().item() + 1\n",
    "n_movies = movie_ids.max().item() + 1\n",
    "n_genders = users_df['gender'].nunique()\n",
    "n_ages = users_df['age'].nunique()\n",
    "n_occupations = users_df['occupation'].nunique()\n",
    "n_zip_codes = users_df['zip_code'].nunique()\n",
    "metadata = {\n",
    "    'n_users': n_users,\n",
    "    'n_movies': n_movies,\n",
    "    'n_genders': n_genders,\n",
    "    'n_ages': n_ages,\n",
    "    'n_occupations': n_occupations,\n",
    "    'n_zip_codes': n_zip_codes\n",
    "}\n",
    "torch.save(metadata, 'datasets/metadata.pt')\n",
    "\n",
    "# Print metadata\n",
    "print(f\"Number of users: {n_users}\")\n",
    "print(f\"Number of movies: {n_movies}\")\n",
    "print(f\"Number of unique genders: {n_genders}\")\n",
    "print(f\"Number of unique ages: {n_ages}\")\n",
    "print(f\"Number of unique occupations: {n_occupations}\")\n",
    "print(f\"Number of unique zip codes: {n_zip_codes}\")"
   ]
  },
  {
   "cell_type": "code",
   "execution_count": 93,
   "id": "303c24f9",
   "metadata": {},
   "outputs": [
    {
     "ename": "AttributeError",
     "evalue": "module 'tensorflow.python.util.tf_export' has no attribute 'ESTIMATOR_API_NAME'",
     "output_type": "error",
     "traceback": [
      "\u001b[31m---------------------------------------------------------------------------\u001b[39m",
      "\u001b[31mAttributeError\u001b[39m                            Traceback (most recent call last)",
      "\u001b[36mCell\u001b[39m\u001b[36m \u001b[39m\u001b[32mIn[93]\u001b[39m\u001b[32m, line 1\u001b[39m\n\u001b[32m----> \u001b[39m\u001b[32m1\u001b[39m \u001b[38;5;28;01mimport\u001b[39;00m\u001b[38;5;250m \u001b[39m\u001b[34;01mtensorflow_privacy\u001b[39;00m\n",
      "\u001b[36mFile \u001b[39m\u001b[32m~/anaconda3/envs/movielens/lib/python3.11/site-packages/tensorflow_privacy/__init__.py:26\u001b[39m\n\u001b[32m     23\u001b[39m   \u001b[38;5;28;01mpass\u001b[39;00m\n\u001b[32m     24\u001b[39m \u001b[38;5;28;01melse\u001b[39;00m:\n\u001b[32m     25\u001b[39m   \u001b[38;5;66;03m# TensorFlow v1 imports\u001b[39;00m\n\u001b[32m---> \u001b[39m\u001b[32m26\u001b[39m   \u001b[38;5;28;01mfrom\u001b[39;00m\u001b[38;5;250m \u001b[39m\u001b[34;01mtensorflow_privacy\u001b[39;00m\u001b[38;5;250m \u001b[39m\u001b[38;5;28;01mimport\u001b[39;00m v1\n\u001b[32m     28\u001b[39m   \u001b[38;5;66;03m# Analysis\u001b[39;00m\n\u001b[32m     29\u001b[39m   \u001b[38;5;28;01mfrom\u001b[39;00m\u001b[38;5;250m \u001b[39m\u001b[34;01mtensorflow_privacy\u001b[39;00m\u001b[34;01m.\u001b[39;00m\u001b[34;01mprivacy\u001b[39;00m\u001b[34;01m.\u001b[39;00m\u001b[34;01manalysis\u001b[39;00m\u001b[34;01m.\u001b[39;00m\u001b[34;01mcompute_dp_sgd_privacy_lib\u001b[39;00m\u001b[38;5;250m \u001b[39m\u001b[38;5;28;01mimport\u001b[39;00m compute_dp_sgd_privacy\n",
      "\u001b[36mFile \u001b[39m\u001b[32m~/anaconda3/envs/movielens/lib/python3.11/site-packages/tensorflow_privacy/v1/__init__.py:28\u001b[39m\n\u001b[32m     25\u001b[39m   \u001b[38;5;28;01mpass\u001b[39;00m\n\u001b[32m     26\u001b[39m \u001b[38;5;28;01melse\u001b[39;00m:\n\u001b[32m     27\u001b[39m   \u001b[38;5;66;03m# Estimators\u001b[39;00m\n\u001b[32m---> \u001b[39m\u001b[32m28\u001b[39m   \u001b[38;5;28;01mfrom\u001b[39;00m\u001b[38;5;250m \u001b[39m\u001b[34;01mtensorflow_privacy\u001b[39;00m\u001b[34;01m.\u001b[39;00m\u001b[34;01mprivacy\u001b[39;00m\u001b[34;01m.\u001b[39;00m\u001b[34;01mestimators\u001b[39;00m\u001b[34;01m.\u001b[39;00m\u001b[34;01mv1\u001b[39;00m\u001b[34;01m.\u001b[39;00m\u001b[34;01mdnn\u001b[39;00m\u001b[38;5;250m \u001b[39m\u001b[38;5;28;01mimport\u001b[39;00m DNNClassifier \u001b[38;5;28;01mas\u001b[39;00m DNNClassifierV1\n\u001b[32m     30\u001b[39m   \u001b[38;5;66;03m# Optimizers\u001b[39;00m\n\u001b[32m     31\u001b[39m   \u001b[38;5;28;01mfrom\u001b[39;00m\u001b[38;5;250m \u001b[39m\u001b[34;01mtensorflow_privacy\u001b[39;00m\u001b[34;01m.\u001b[39;00m\u001b[34;01mprivacy\u001b[39;00m\u001b[34;01m.\u001b[39;00m\u001b[34;01moptimizers\u001b[39;00m\u001b[34;01m.\u001b[39;00m\u001b[34;01mdp_optimizer\u001b[39;00m\u001b[38;5;250m \u001b[39m\u001b[38;5;28;01mimport\u001b[39;00m DPAdagradGaussianOptimizer\n",
      "\u001b[36mFile \u001b[39m\u001b[32m~/anaconda3/envs/movielens/lib/python3.11/site-packages/tensorflow_privacy/privacy/estimators/v1/dnn.py:19\u001b[39m\n\u001b[32m     15\u001b[39m \u001b[33;03m\"\"\"DP version of DNNClassifiers v1.\"\"\"\u001b[39;00m\n\u001b[32m     17\u001b[39m \u001b[38;5;28;01mimport\u001b[39;00m\u001b[38;5;250m \u001b[39m\u001b[34;01mtensorflow\u001b[39;00m\u001b[38;5;250m \u001b[39m\u001b[38;5;28;01mas\u001b[39;00m\u001b[38;5;250m \u001b[39m\u001b[34;01mtf\u001b[39;00m\n\u001b[32m---> \u001b[39m\u001b[32m19\u001b[39m \u001b[38;5;28;01mfrom\u001b[39;00m\u001b[38;5;250m \u001b[39m\u001b[34;01mtensorflow_privacy\u001b[39;00m\u001b[34;01m.\u001b[39;00m\u001b[34;01mprivacy\u001b[39;00m\u001b[34;01m.\u001b[39;00m\u001b[34;01mestimators\u001b[39;00m\u001b[34;01m.\u001b[39;00m\u001b[34;01mv1\u001b[39;00m\u001b[38;5;250m \u001b[39m\u001b[38;5;28;01mimport\u001b[39;00m head \u001b[38;5;28;01mas\u001b[39;00m head_lib\n\u001b[32m     20\u001b[39m \u001b[38;5;28;01mfrom\u001b[39;00m\u001b[38;5;250m \u001b[39m\u001b[34;01mtensorflow_estimator\u001b[39;00m\u001b[34;01m.\u001b[39;00m\u001b[34;01mpython\u001b[39;00m\u001b[34;01m.\u001b[39;00m\u001b[34;01mestimator\u001b[39;00m\u001b[38;5;250m \u001b[39m\u001b[38;5;28;01mimport\u001b[39;00m estimator\n\u001b[32m     21\u001b[39m \u001b[38;5;28;01mfrom\u001b[39;00m\u001b[38;5;250m \u001b[39m\u001b[34;01mtensorflow_estimator\u001b[39;00m\u001b[34;01m.\u001b[39;00m\u001b[34;01mpython\u001b[39;00m\u001b[34;01m.\u001b[39;00m\u001b[34;01mestimator\u001b[39;00m\u001b[34;01m.\u001b[39;00m\u001b[34;01mcanned\u001b[39;00m\u001b[38;5;250m \u001b[39m\u001b[38;5;28;01mimport\u001b[39;00m dnn\n",
      "\u001b[36mFile \u001b[39m\u001b[32m~/anaconda3/envs/movielens/lib/python3.11/site-packages/tensorflow_privacy/privacy/estimators/v1/head.py:20\u001b[39m\n\u001b[32m     18\u001b[39m \u001b[38;5;28;01mfrom\u001b[39;00m\u001b[38;5;250m \u001b[39m\u001b[34;01mtensorflow\u001b[39;00m\u001b[34;01m.\u001b[39;00m\u001b[34;01mpython\u001b[39;00m\u001b[34;01m.\u001b[39;00m\u001b[34;01mops\u001b[39;00m\u001b[38;5;250m \u001b[39m\u001b[38;5;28;01mimport\u001b[39;00m lookup_ops  \u001b[38;5;66;03m# pylint: disable=g-direct-tensorflow-import\u001b[39;00m\n\u001b[32m     19\u001b[39m \u001b[38;5;66;03m# pylint: disable=g-deprecated-tf-checker\u001b[39;00m\n\u001b[32m---> \u001b[39m\u001b[32m20\u001b[39m \u001b[38;5;28;01mfrom\u001b[39;00m\u001b[38;5;250m \u001b[39m\u001b[34;01mtensorflow_estimator\u001b[39;00m\u001b[34;01m.\u001b[39;00m\u001b[34;01mpython\u001b[39;00m\u001b[34;01m.\u001b[39;00m\u001b[34;01mestimator\u001b[39;00m\u001b[38;5;250m \u001b[39m\u001b[38;5;28;01mimport\u001b[39;00m model_fn\n\u001b[32m     21\u001b[39m \u001b[38;5;28;01mfrom\u001b[39;00m\u001b[38;5;250m \u001b[39m\u001b[34;01mtensorflow_estimator\u001b[39;00m\u001b[34;01m.\u001b[39;00m\u001b[34;01mpython\u001b[39;00m\u001b[34;01m.\u001b[39;00m\u001b[34;01mestimator\u001b[39;00m\u001b[34;01m.\u001b[39;00m\u001b[34;01mcanned\u001b[39;00m\u001b[38;5;250m \u001b[39m\u001b[38;5;28;01mimport\u001b[39;00m head \u001b[38;5;28;01mas\u001b[39;00m head_lib\n\u001b[32m     22\u001b[39m \u001b[38;5;28;01mfrom\u001b[39;00m\u001b[38;5;250m \u001b[39m\u001b[34;01mtensorflow_estimator\u001b[39;00m\u001b[34;01m.\u001b[39;00m\u001b[34;01mpython\u001b[39;00m\u001b[34;01m.\u001b[39;00m\u001b[34;01mestimator\u001b[39;00m\u001b[34;01m.\u001b[39;00m\u001b[34;01mcanned\u001b[39;00m\u001b[38;5;250m \u001b[39m\u001b[38;5;28;01mimport\u001b[39;00m metric_keys\n",
      "\u001b[36mFile \u001b[39m\u001b[32m~/anaconda3/envs/movielens/lib/python3.11/site-packages/tensorflow_estimator/python/estimator/model_fn.py:29\u001b[39m\n\u001b[32m     27\u001b[39m \u001b[38;5;28;01mfrom\u001b[39;00m\u001b[38;5;250m \u001b[39m\u001b[34;01mtensorflow\u001b[39;00m\u001b[34;01m.\u001b[39;00m\u001b[34;01mpython\u001b[39;00m\u001b[34;01m.\u001b[39;00m\u001b[34;01mutil\u001b[39;00m\u001b[38;5;250m \u001b[39m\u001b[38;5;28;01mimport\u001b[39;00m function_utils\n\u001b[32m     28\u001b[39m \u001b[38;5;28;01mfrom\u001b[39;00m\u001b[38;5;250m \u001b[39m\u001b[34;01mtensorflow_estimator\u001b[39;00m\u001b[34;01m.\u001b[39;00m\u001b[34;01mpython\u001b[39;00m\u001b[34;01m.\u001b[39;00m\u001b[34;01mestimator\u001b[39;00m\u001b[34;01m.\u001b[39;00m\u001b[34;01mestimator_export\u001b[39;00m\u001b[38;5;250m \u001b[39m\u001b[38;5;28;01mimport\u001b[39;00m estimator_export\n\u001b[32m---> \u001b[39m\u001b[32m29\u001b[39m \u001b[38;5;28;01mfrom\u001b[39;00m\u001b[38;5;250m \u001b[39m\u001b[34;01mtensorflow_estimator\u001b[39;00m\u001b[34;01m.\u001b[39;00m\u001b[34;01mpython\u001b[39;00m\u001b[34;01m.\u001b[39;00m\u001b[34;01mestimator\u001b[39;00m\u001b[34;01m.\u001b[39;00m\u001b[34;01mmode_keys\u001b[39;00m\u001b[38;5;250m \u001b[39m\u001b[38;5;28;01mimport\u001b[39;00m ModeKeys\n\u001b[32m     31\u001b[39m LOSS_METRIC_KEY = \u001b[33m'\u001b[39m\u001b[33mloss\u001b[39m\u001b[33m'\u001b[39m\n\u001b[32m     32\u001b[39m AVERAGE_LOSS_METRIC_KEY = \u001b[33m'\u001b[39m\u001b[33maverage_loss\u001b[39m\u001b[33m'\u001b[39m\n",
      "\u001b[36mFile \u001b[39m\u001b[32m~/anaconda3/envs/movielens/lib/python3.11/site-packages/tensorflow_estimator/python/estimator/mode_keys.py:24\u001b[39m\n\u001b[32m     21\u001b[39m \u001b[38;5;28;01mfrom\u001b[39;00m\u001b[38;5;250m \u001b[39m\u001b[34;01mtensorflow\u001b[39;00m\u001b[34;01m.\u001b[39;00m\u001b[34;01mpython\u001b[39;00m\u001b[34;01m.\u001b[39;00m\u001b[34;01msaved_model\u001b[39;00m\u001b[34;01m.\u001b[39;00m\u001b[34;01mmodel_utils\u001b[39;00m\u001b[34;01m.\u001b[39;00m\u001b[34;01mmode_keys\u001b[39;00m\u001b[38;5;250m \u001b[39m\u001b[38;5;28;01mimport\u001b[39;00m EstimatorModeKeys \u001b[38;5;28;01mas\u001b[39;00m ModeKeys\n\u001b[32m     22\u001b[39m \u001b[38;5;28;01mfrom\u001b[39;00m\u001b[38;5;250m \u001b[39m\u001b[34;01mtensorflow_estimator\u001b[39;00m\u001b[34;01m.\u001b[39;00m\u001b[34;01mpython\u001b[39;00m\u001b[34;01m.\u001b[39;00m\u001b[34;01mestimator\u001b[39;00m\u001b[34;01m.\u001b[39;00m\u001b[34;01mestimator_export\u001b[39;00m\u001b[38;5;250m \u001b[39m\u001b[38;5;28;01mimport\u001b[39;00m estimator_export\n\u001b[32m---> \u001b[39m\u001b[32m24\u001b[39m \u001b[43mestimator_export\u001b[49m\u001b[43m(\u001b[49m\u001b[33;43m'\u001b[39;49m\u001b[33;43mestimator.ModeKeys\u001b[39;49m\u001b[33;43m'\u001b[39;49m\u001b[43m)\u001b[49m(ModeKeys)\n",
      "\u001b[36mFile \u001b[39m\u001b[32m~/anaconda3/envs/movielens/lib/python3.11/site-packages/tensorflow_estimator/python/estimator/estimator_export.py:60\u001b[39m, in \u001b[36mestimator_export.__init__\u001b[39m\u001b[34m(self, *args, **kwargs)\u001b[39m\n\u001b[32m     48\u001b[39m \u001b[38;5;28;01mdef\u001b[39;00m\u001b[38;5;250m \u001b[39m\u001b[34m__init__\u001b[39m(\u001b[38;5;28mself\u001b[39m, *args, **kwargs):  \u001b[38;5;66;03m# pylint: disable=g-doc-args\u001b[39;00m\n\u001b[32m     49\u001b[39m \u001b[38;5;250m  \u001b[39m\u001b[33;03m\"\"\"Export under the names *args (first one is considered canonical).\u001b[39;00m\n\u001b[32m     50\u001b[39m \n\u001b[32m     51\u001b[39m \u001b[33;03m  All symbols exported by this decorator are exported under the `estimator`\u001b[39;00m\n\u001b[32m   (...)\u001b[39m\u001b[32m     58\u001b[39m \u001b[33;03m        names both for TensorFlow V1 and V2 APIs.\u001b[39;00m\n\u001b[32m     59\u001b[39m \u001b[33;03m  \"\"\"\u001b[39;00m\n\u001b[32m---> \u001b[39m\u001b[32m60\u001b[39m   \u001b[38;5;28msuper\u001b[39m().\u001b[34m__init__\u001b[39m(*args, api_name=\u001b[43mtf_export\u001b[49m\u001b[43m.\u001b[49m\u001b[43mESTIMATOR_API_NAME\u001b[49m, **kwargs)\n",
      "\u001b[31mAttributeError\u001b[39m: module 'tensorflow.python.util.tf_export' has no attribute 'ESTIMATOR_API_NAME'"
     ]
    }
   ],
   "source": [
    "import tensorflow_privacy\n"
   ]
  },
  {
   "cell_type": "code",
   "execution_count": null,
   "id": "035d3b85",
   "metadata": {},
   "outputs": [],
   "source": []
  }
 ],
 "metadata": {
  "kernelspec": {
   "display_name": "test-tf",
   "language": "python",
   "name": "python3"
  },
  "language_info": {
   "codemirror_mode": {
    "name": "ipython",
    "version": 3
   },
   "file_extension": ".py",
   "mimetype": "text/x-python",
   "name": "python",
   "nbconvert_exporter": "python",
   "pygments_lexer": "ipython3",
   "version": "3.11.11"
  }
 },
 "nbformat": 4,
 "nbformat_minor": 5
}
