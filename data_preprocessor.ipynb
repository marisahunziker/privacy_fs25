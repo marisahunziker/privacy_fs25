{
 "cells": [
  {
   "cell_type": "code",
   "execution_count": 1,
   "id": "f34833ee",
   "metadata": {},
   "outputs": [],
   "source": [
    "import torch \n",
    "from torch.utils.data import TensorDataset\n",
    "\n",
    "import pandas as pd\n",
    "\n",
    "from sklearn.model_selection import train_test_split\n",
    "from sklearn.preprocessing import LabelEncoder"
   ]
  },
  {
   "cell_type": "code",
   "execution_count": 3,
   "id": "1255a918",
   "metadata": {},
   "outputs": [
    {
     "name": "stdout",
     "output_type": "stream",
     "text": [
      "   userId  movieId  rating  gender  age  occupation  zip_code\n",
      "0       0     1192     5.0       0    0          10        48\n",
      "1       0      660     3.0       0    0          10        48\n",
      "2       0      913     3.0       0    0          10        48\n",
      "3       0     3407     4.0       0    0          10        48\n",
      "4       0     2354     5.0       0    0          10        48\n"
     ]
    }
   ],
   "source": [
    "ratings_columns = ['userId', 'movieId', 'rating', 'timestamp']\n",
    "users_columns = ['userId', 'gender', 'age', 'occupation', 'zip_code']\n",
    "\n",
    "def load_movielens():\n",
    "    \"\"\"Load the MovieLens datasets.\"\"\"\n",
    "    ratings_df = pd.read_csv(filepath_or_buffer='data/ml-1m/ratings.dat', sep='::', header=None, names=ratings_columns, encoding='latin-1', engine='python')\n",
    "    ratings_df.drop(columns='timestamp', inplace=True) # Drop timestamp column\n",
    "    ratings_df['rating'] = ratings_df['rating'].astype(float)  # Ensure ratings are float\n",
    "    ratings_df['userId'] = ratings_df['userId'].astype(int) - 1  # Ensure userId is int\n",
    "    ratings_df['movieId'] = ratings_df['movieId'].astype(int) - 1  # Ensure movieId is int\n",
    "\n",
    "    users_df = pd.read_csv(filepath_or_buffer='data/ml-1m/users.dat', sep='::', header=None, names=users_columns, encoding='latin-1', engine='python')\n",
    "    users_df['userId'] = users_df['userId'].astype(int) - 1  # Ensure userId is int\n",
    "    users_df['gender'] = LabelEncoder().fit_transform(users_df['gender'])  # Encode gender as numeric 0/1\n",
    "    users_df['age'] = LabelEncoder().fit_transform(users_df['age'])  # Encode age as numeric\n",
    "    users_df['occupation'] = users_df['occupation'].astype(int)  # Ensure occupation is int\n",
    "    users_df['zip_code'] = users_df['zip_code'].astype(str).str[:2]\n",
    "    users_df['zip_code'] = LabelEncoder().fit_transform(users_df['zip_code'])  # Encode zip_code as numeric\n",
    "\n",
    "    return ratings_df, users_df\n",
    "\n",
    "ratings_df, users_df = load_movielens()\n",
    "\n",
    "df = ratings_df.merge(users_df, on='userId')\n",
    "\n",
    "print(df.head(5))\n"
   ]
  },
  {
   "cell_type": "code",
   "execution_count": 4,
   "id": "e1cd7227",
   "metadata": {},
   "outputs": [],
   "source": [
    "user_ids = torch.tensor(df['userId'].values, dtype=torch.long)\n",
    "movie_ids = torch.tensor(df['movieId'].values, dtype=torch.long)\n",
    "ratings = torch.tensor(df['rating'].values, dtype=torch.float32)\n",
    "genders = torch.tensor(df['gender'].values, dtype=torch.long)\n",
    "ages = torch.tensor(df['age'].values, dtype=torch.long)\n",
    "occupations = torch.tensor(df['occupation'].values, dtype=torch.long)\n",
    "zip_codes = torch.tensor(df['zip_code'].values, dtype=torch.long)"
   ]
  },
  {
   "cell_type": "code",
   "execution_count": 5,
   "id": "df3b8e0b",
   "metadata": {},
   "outputs": [],
   "source": [
    "dataset = TensorDataset(user_ids, movie_ids, ratings, genders, ages, occupations, zip_codes)\n",
    "\n",
    "# Split the dataset into train, test, and validation sets. 70% train, 15% test, 15% validation\n",
    "train_dataset, temp_test_dataset = train_test_split(dataset, test_size=0.3, random_state=42, shuffle=True)\n",
    "test_dataset, val_dataset = train_test_split(temp_test_dataset, test_size=0.5, random_state=42)\n",
    "\n",
    "# Save the datasets\n",
    "torch.save(train_dataset, 'datasets/train_dataset.pt')\n",
    "torch.save(test_dataset, 'datasets/test_dataset.pt')\n",
    "torch.save(val_dataset, 'datasets/val_dataset.pt')\n",
    "\n",
    "\n"
   ]
  },
  {
   "cell_type": "code",
   "execution_count": 6,
   "id": "9e997466",
   "metadata": {},
   "outputs": [
    {
     "name": "stdout",
     "output_type": "stream",
     "text": [
      "Number of users: 6040\n",
      "Number of movies: 3952\n",
      "Number of unique genders: 2\n",
      "Number of unique ages: 7\n",
      "Number of unique occupations: 21\n",
      "Number of unique zip codes: 100\n"
     ]
    }
   ],
   "source": [
    "# Save metadata\n",
    "n_users = user_ids.max().item() + 1\n",
    "n_movies = movie_ids.max().item() + 1\n",
    "n_genders = users_df['gender'].nunique()\n",
    "n_ages = users_df['age'].nunique()\n",
    "n_occupations = users_df['occupation'].nunique()\n",
    "n_zip_codes = users_df['zip_code'].nunique()\n",
    "metadata = {\n",
    "    'n_users': n_users,\n",
    "    'n_movies': n_movies,\n",
    "    'n_genders': n_genders,\n",
    "    'n_ages': n_ages,\n",
    "    'n_occupations': n_occupations,\n",
    "    'n_zip_codes': n_zip_codes\n",
    "}\n",
    "torch.save(metadata, 'datasets/metadata.pt')\n",
    "\n",
    "# Print metadata\n",
    "print(f\"Number of users: {n_users}\")\n",
    "print(f\"Number of movies: {n_movies}\")\n",
    "print(f\"Number of unique genders: {n_genders}\")\n",
    "print(f\"Number of unique ages: {n_ages}\")\n",
    "print(f\"Number of unique occupations: {n_occupations}\")\n",
    "print(f\"Number of unique zip codes: {n_zip_codes}\")"
   ]
  },
  {
   "cell_type": "code",
   "execution_count": null,
   "id": "035d3b85",
   "metadata": {},
   "outputs": [],
   "source": []
  }
 ],
 "metadata": {
  "kernelspec": {
   "display_name": "movielens",
   "language": "python",
   "name": "python3"
  },
  "language_info": {
   "codemirror_mode": {
    "name": "ipython",
    "version": 3
   },
   "file_extension": ".py",
   "mimetype": "text/x-python",
   "name": "python",
   "nbconvert_exporter": "python",
   "pygments_lexer": "ipython3",
   "version": "3.11.8"
  }
 },
 "nbformat": 4,
 "nbformat_minor": 5
}
