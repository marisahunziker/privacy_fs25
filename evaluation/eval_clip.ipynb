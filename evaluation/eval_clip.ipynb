{
 "cells": [
  {
   "cell_type": "code",
   "execution_count": 76,
   "id": "a1d6dfcf",
   "metadata": {},
   "outputs": [],
   "source": [
    "import torch\n",
    "import glob\n",
    "\n",
    "import matplotlib.pyplot as plt\n",
    "from matplotlib.lines import Line2D\n"
   ]
  },
  {
   "cell_type": "markdown",
   "id": "1ab8615c",
   "metadata": {},
   "source": [
    "# Evaluation of DP Models with varying Clipping Norms\n",
    "\n",
    "This script can be used to analyze and plot the metrics and losses gather during the training of the DP models with varying clipping norms"
   ]
  },
  {
   "cell_type": "code",
   "execution_count": 77,
   "id": "097eca16",
   "metadata": {},
   "outputs": [],
   "source": [
    "figures_path = 'figures/clip/'\n",
    "\n",
    "clip_norms = {1.0, 1.5, 2.0, 2.5, 3.0, 3.5, 4.0, 4.5, 5.0}\n",
    "\n",
    "width = 6.5  # in inches\n",
    "height = width * 0.75  # 4:3 aspect ratio\n",
    "fig_size = (width, height)\n"
   ]
  },
  {
   "cell_type": "code",
   "execution_count": 78,
   "id": "de07b2cf",
   "metadata": {},
   "outputs": [],
   "source": [
    "metrics_files = glob.glob('../metrics/clip/16-07/metrics_dp_clipnorm_*_epoch*.pt')\n",
    "losses_files = glob.glob('../losses/clip/16-07/losses_dp_clipnorm_*_epoch300.pt')"
   ]
  },
  {
   "cell_type": "code",
   "execution_count": 79,
   "id": "aa63e986",
   "metadata": {},
   "outputs": [
    {
     "data": {
      "text/plain": [
       "{50: {'epoch': 50,\n",
       "  'epsilon': 0.44880944325269984,\n",
       "  'delta': 1e-05,\n",
       "  'mse': 13.975862503051758,\n",
       "  'mae': 3.2169394493103027,\n",
       "  'rmse': 3.738430486588156},\n",
       " 60: {'epoch': 60,\n",
       "  'epsilon': 0.494352859958936,\n",
       "  'delta': 1e-05,\n",
       "  'mse': 13.488402366638184,\n",
       "  'mae': 3.1233558654785156,\n",
       "  'rmse': 3.672656037071561},\n",
       " 70: {'epoch': 70,\n",
       "  'epsilon': 0.5365667971093716,\n",
       "  'delta': 1e-05,\n",
       "  'mse': 12.867725372314453,\n",
       "  'mae': 2.997399091720581,\n",
       "  'rmse': 3.5871611857169805},\n",
       " 80: {'epoch': 80,\n",
       "  'epsilon': 0.5761307399235702,\n",
       "  'delta': 1e-05,\n",
       "  'mse': 12.063518524169922,\n",
       "  'mae': 2.8434059619903564,\n",
       "  'rmse': 3.4732576242153304},\n",
       " 90: {'epoch': 90,\n",
       "  'epsilon': 0.6135183063856728,\n",
       "  'delta': 1e-05,\n",
       "  'mse': 11.033931732177734,\n",
       "  'mae': 2.663757801055908,\n",
       "  'rmse': 3.321736252651275},\n",
       " 100: {'epoch': 100,\n",
       "  'epsilon': 0.6490757893375819,\n",
       "  'delta': 1e-05,\n",
       "  'mse': 9.905498504638672,\n",
       "  'mae': 2.4668214321136475,\n",
       "  'rmse': 3.147300192965182},\n",
       " 110: {'epoch': 110,\n",
       "  'epsilon': 0.68306730994821,\n",
       "  'delta': 1e-05,\n",
       "  'mse': 8.6986722946167,\n",
       "  'mae': 2.2564735412597656,\n",
       "  'rmse': 2.949351165022012},\n",
       " 120: {'epoch': 120,\n",
       "  'epsilon': 0.7156961951734431,\n",
       "  'delta': 1e-05,\n",
       "  'mse': 7.5234270095825195,\n",
       "  'mae': 2.0474693775177,\n",
       "  'rmse': 2.7428866198919923},\n",
       " 130: {'epoch': 130,\n",
       "  'epsilon': 0.7471271763622683,\n",
       "  'delta': 1e-05,\n",
       "  'mse': 6.393372535705566,\n",
       "  'mae': 1.8483659029006958,\n",
       "  'rmse': 2.528511921210886},\n",
       " 140: {'epoch': 140,\n",
       "  'epsilon': 0.7774942201976083,\n",
       "  'delta': 1e-05,\n",
       "  'mse': 5.400636672973633,\n",
       "  'mae': 1.6661757230758667,\n",
       "  'rmse': 2.323926993899256},\n",
       " 150: {'epoch': 150,\n",
       "  'epsilon': 0.8069048863613095,\n",
       "  'delta': 1e-05,\n",
       "  'mse': 4.53937292098999,\n",
       "  'mae': 1.5070416927337646,\n",
       "  'rmse': 2.1305804188037563},\n",
       " 160: {'epoch': 160,\n",
       "  'epsilon': 0.835452733062,\n",
       "  'delta': 1e-05,\n",
       "  'mse': 3.833662271499634,\n",
       "  'mae': 1.3705161809921265,\n",
       "  'rmse': 1.9579740221718045},\n",
       " 170: {'epoch': 170,\n",
       "  'epsilon': 0.8632147426895928,\n",
       "  'delta': 1e-05,\n",
       "  'mse': 3.268249988555908,\n",
       "  'mae': 1.2633228302001953,\n",
       "  'rmse': 1.8078301879756042},\n",
       " 180: {'epoch': 180,\n",
       "  'epsilon': 0.8902601213615924,\n",
       "  'delta': 1e-05,\n",
       "  'mse': 2.8231468200683594,\n",
       "  'mae': 1.1773130893707275,\n",
       "  'rmse': 1.6802222531761564},\n",
       " 190: {'epoch': 190,\n",
       "  'epsilon': 0.9166444199561619,\n",
       "  'delta': 1e-05,\n",
       "  'mse': 2.468531608581543,\n",
       "  'mae': 1.1071600914001465,\n",
       "  'rmse': 1.5711561375565266},\n",
       " 200: {'epoch': 200,\n",
       "  'epsilon': 0.942417261209587,\n",
       "  'delta': 1e-05,\n",
       "  'mse': 2.1985700130462646,\n",
       "  'mae': 1.053175449371338,\n",
       "  'rmse': 1.482757570557731},\n",
       " 210: {'epoch': 210,\n",
       "  'epsilon': 0.9676256293516806,\n",
       "  'delta': 1e-05,\n",
       "  'mse': 1.981477975845337,\n",
       "  'mae': 1.010663390159607,\n",
       "  'rmse': 1.407649805827194},\n",
       " 220: {'epoch': 220,\n",
       "  'epsilon': 0.9923076131835475,\n",
       "  'delta': 1e-05,\n",
       "  'mse': 1.802844524383545,\n",
       "  'mae': 0.9744192361831665,\n",
       "  'rmse': 1.3427004596646062},\n",
       " 230: {'epoch': 230,\n",
       "  'epsilon': 1.0164992271597455,\n",
       "  'delta': 1e-05,\n",
       "  'mse': 1.6663882732391357,\n",
       "  'mae': 0.9464460611343384,\n",
       "  'rmse': 1.290886622922066},\n",
       " 240: {'epoch': 240,\n",
       "  'epsilon': 1.0402269644031423,\n",
       "  'delta': 1e-05,\n",
       "  'mse': 1.5570381879806519,\n",
       "  'mae': 0.9234446883201599,\n",
       "  'rmse': 1.2478133626390815},\n",
       " 250: {'epoch': 250,\n",
       "  'epsilon': 1.0635230441237935,\n",
       "  'delta': 1e-05,\n",
       "  'mse': 1.4725397825241089,\n",
       "  'mae': 0.9049195647239685,\n",
       "  'rmse': 1.2134825019439337},\n",
       " 260: {'epoch': 260,\n",
       "  'epsilon': 1.0864117792723071,\n",
       "  'delta': 1e-05,\n",
       "  'mse': 1.4042035341262817,\n",
       "  'mae': 0.8895628452301025,\n",
       "  'rmse': 1.184990942634703},\n",
       " 270: {'epoch': 270,\n",
       "  'epsilon': 1.1089170316713324,\n",
       "  'delta': 1e-05,\n",
       "  'mse': 1.347887635231018,\n",
       "  'mae': 0.878101110458374,\n",
       "  'rmse': 1.160985630932191},\n",
       " 280: {'epoch': 280,\n",
       "  'epsilon': 1.1310570143490282,\n",
       "  'delta': 1e-05,\n",
       "  'mse': 1.299083948135376,\n",
       "  'mae': 0.86684650182724,\n",
       "  'rmse': 1.139773638989504},\n",
       " 290: {'epoch': 290,\n",
       "  'epsilon': 1.152853578593295,\n",
       "  'delta': 1e-05,\n",
       "  'mse': 1.2625422477722168,\n",
       "  'mae': 0.8585222363471985,\n",
       "  'rmse': 1.1236290525668233},\n",
       " 300: {'epoch': 300,\n",
       "  'epsilon': 1.1743207647010891,\n",
       "  'delta': 1e-05,\n",
       "  'mse': 1.2323486804962158,\n",
       "  'mae': 0.8520717024803162,\n",
       "  'rmse': 1.1101120125898178}}"
      ]
     },
     "execution_count": 79,
     "metadata": {},
     "output_type": "execute_result"
    }
   ],
   "source": [
    "metrics = {}\n",
    "for norm in clip_norms:\n",
    "    for epoch in range(50, 301, 10):\n",
    "        metrics_file = f'../metrics/clip/16-07/metrics_dp_clipnorm_{norm}_epoch{epoch}.pt'\n",
    "        metric = torch.load(metrics_file, weights_only=False)\n",
    "        if norm not in metrics:\n",
    "            metrics[norm] = {}\n",
    "        metrics[norm][epoch] = metric\n",
    "\n",
    "metrics[1.0]"
   ]
  },
  {
   "cell_type": "code",
   "execution_count": 80,
   "id": "cf2659c4",
   "metadata": {},
   "outputs": [],
   "source": [
    "def plot_metrics(metrics):\n",
    "    for norm, data in metrics.items():\n",
    "        epochs = sorted(data.keys())\n",
    "        mse = [data[epoch]['mse'] for epoch in epochs]\n",
    "        mae = [data[epoch]['mae'] for epoch in epochs]\n",
    "        \n",
    "        plt.figure(figsize=fig_size)\n",
    "        plt.plot(epochs, mse, label='MSE', color='blue')\n",
    "        plt.plot(epochs, mae, label='MAE', color='orange')\n",
    "        plt.title(f'Metrics for Clip Norm {norm}')\n",
    "        plt.xlabel('Epochs')\n",
    "        plt.ylabel('Metric Value')\n",
    "        plt.legend()\n",
    "        ax = plt.gca()\n",
    "        ax.spines['right'].set_visible(False)\n",
    "        ax.spines['top'].set_visible(False)\n",
    "        plt.savefig(f'{figures_path}metrics_clipnorm_{norm}.pdf')\n",
    "        plt.close()\n",
    "        \n",
    "plot_metrics(metrics)"
   ]
  },
  {
   "cell_type": "code",
   "execution_count": 81,
   "id": "e7c44883",
   "metadata": {},
   "outputs": [
    {
     "data": {
      "image/png": "[encoded data removed]",
      "text/plain": [
       "<Figure size 650x487.5 with 1 Axes>"
      ]
     },
     "metadata": {},
     "output_type": "display_data"
    }
   ],
   "source": [
    "\n",
    "def plot_comparison(metrics):\n",
    "    # Plot comparison of MSE, MAE, and Epsilon for different clip norms at the last epoch = 300\n",
    "    epochs = [300]\n",
    "    plt.figure(figsize=fig_size)\n",
    "    for norm in clip_norms:\n",
    "        if norm in metrics and 300 in metrics[norm]:\n",
    "            mse = metrics[norm][300]['mse']\n",
    "            mae = metrics[norm][300]['mae']\n",
    "            plt.scatter(norm, mse, label=f'MSE {norm}', color='blue', marker='o')\n",
    "            plt.scatter(norm, mae, label=f'MAE {norm}', color='orange', marker='x')\n",
    "    plt.title('Comparison of Metrics at Epoch 300 for Different Clip Norms')\n",
    "    plt.xlabel('Clip Norm')\n",
    "    plt.ylabel('Metric Value')\n",
    "    plt.xticks(list(clip_norms))\n",
    "    # Custom legend for symbol meanings only\n",
    "    custom_lines = [\n",
    "        Line2D([0], [0], color='blue', marker='o', linestyle='None', label='MSE'),\n",
    "        Line2D([0], [0], color='orange', marker='x', linestyle='None', label='MAE'),\n",
    "    ]\n",
    "    plt.legend(handles=custom_lines)\n",
    "    ax = plt.gca()\n",
    "    ax.spines['right'].set_visible(False)\n",
    "    ax.spines['top'].set_visible(False)\n",
    "    plt.savefig(f'{figures_path}comparison_metrics_clipnorms.pdf')\n",
    "\n",
    "plot_comparison(metrics)\n"
   ]
  },
  {
   "cell_type": "code",
   "execution_count": 82,
   "id": "d62a6986",
   "metadata": {},
   "outputs": [],
   "source": [
    "losses = {}\n",
    "for norm in clip_norms:\n",
    "    losses_file = f'../losses/clip/16-07/losses_dp_clipnorm_{norm}_epoch300.pt'\n",
    "    loss = torch.load(losses_file, weights_only=False)\n",
    "    losses[norm] = loss"
   ]
  },
  {
   "cell_type": "code",
   "execution_count": 83,
   "id": "b4dd7fba",
   "metadata": {},
   "outputs": [
    {
     "name": "stdout",
     "output_type": "stream",
     "text": [
      "Best clip norm based on validation loss at epoch 300: 3.0 with loss 1.0903\n"
     ]
    }
   ],
   "source": [
    "# Find out which clip norm has the lowest validation loss at epoch 300\n",
    "min_val_loss = float('inf')\n",
    "best_norm = None\n",
    "for norm, loss in losses.items():\n",
    "    val_loss = loss['val_loss'][-1]  # Last value in the validation loss\n",
    "    if val_loss < min_val_loss:\n",
    "        min_val_loss = val_loss\n",
    "        best_norm = norm\n",
    "\n",
    "print(f'Best clip norm based on validation loss at epoch 300: {best_norm} with loss {min_val_loss:.4f}')"
   ]
  },
  {
   "cell_type": "code",
   "execution_count": 84,
   "id": "b06d7925",
   "metadata": {},
   "outputs": [
    {
     "name": "stdout",
     "output_type": "stream",
     "text": [
      "Clip norm 1.0 metrics: {'epoch': 300, 'epsilon': 1.1743207647010891, 'delta': 1e-05, 'mse': 1.2323486804962158, 'mae': 0.8520717024803162, 'rmse': 1.1101120125898178}\n",
      "Clip norm 2.5 metrics: {'epoch': 300, 'epsilon': 1.1743207647010891, 'delta': 1e-05, 'mse': 1.1062811613082886, 'mae': 0.8211331367492676, 'rmse': 1.051799011840327}\n",
      "Clip norm 2.0 metrics: {'epoch': 300, 'epsilon': 1.1743207647010891, 'delta': 1e-05, 'mse': 1.1120126247406006, 'mae': 0.8206126689910889, 'rmse': 1.0545200921464706}\n",
      "Clip norm 3.0 metrics: {'epoch': 300, 'epsilon': 1.1743207647010891, 'delta': 1e-05, 'mse': 1.0871003866195679, 'mae': 0.8170610666275024, 'rmse': 1.0426410631754188}\n",
      "Clip norm 1.5 metrics: {'epoch': 300, 'epsilon': 1.1743207647010891, 'delta': 1e-05, 'mse': 1.1403099298477173, 'mae': 0.8293091058731079, 'rmse': 1.0678529532888492}\n",
      "Clip norm 3.5 metrics: {'epoch': 300, 'epsilon': 1.1743207647010891, 'delta': 1e-05, 'mse': 1.094800353050232, 'mae': 0.819036602973938, 'rmse': 1.0463270774715867}\n",
      "Clip norm 4.0 metrics: {'epoch': 300, 'epsilon': 1.1743207647010891, 'delta': 1e-05, 'mse': 1.099883794784546, 'mae': 0.8206719756126404, 'rmse': 1.048753448044175}\n",
      "Clip norm 4.5 metrics: {'epoch': 300, 'epsilon': 1.1743207647010891, 'delta': 1e-05, 'mse': 1.1127890348434448, 'mae': 0.8269036412239075, 'rmse': 1.0548881622444366}\n",
      "Clip norm 5.0 metrics: {'epoch': 300, 'epsilon': 1.1743207647010891, 'delta': 1e-05, 'mse': 1.1236591339111328, 'mae': 0.8312790989875793, 'rmse': 1.060027892987318}\n"
     ]
    }
   ],
   "source": [
    "for norm in clip_norms:\n",
    "    print(f'Clip norm {norm} metrics: {metrics[norm][300]}')"
   ]
  },
  {
   "cell_type": "code",
   "execution_count": 85,
   "id": "4e8e0417",
   "metadata": {},
   "outputs": [
    {
     "name": "stdout",
     "output_type": "stream",
     "text": [
      "Loss for clip norm 1.0 at epoch 300: Train Loss: 1.6055, Validation Loss: 1.2233\n",
      "Loss for clip norm 2.5 at epoch 300: Train Loss: 1.3563, Validation Loss: 1.0951\n",
      "Loss for clip norm 2.0 at epoch 300: Train Loss: 1.3841, Validation Loss: 1.1129\n",
      "Loss for clip norm 3.0 at epoch 300: Train Loss: 1.3352, Validation Loss: 1.0903\n",
      "Loss for clip norm 1.5 at epoch 300: Train Loss: 1.4370, Validation Loss: 1.1417\n",
      "Loss for clip norm 3.5 at epoch 300: Train Loss: 1.3509, Validation Loss: 1.0923\n",
      "Loss for clip norm 4.0 at epoch 300: Train Loss: 1.3659, Validation Loss: 1.0989\n",
      "Loss for clip norm 4.5 at epoch 300: Train Loss: 1.3934, Validation Loss: 1.1116\n",
      "Loss for clip norm 5.0 at epoch 300: Train Loss: 1.4043, Validation Loss: 1.1210\n"
     ]
    }
   ],
   "source": [
    "for norm in clip_norms:\n",
    "    print(f'Loss for clip norm {norm} at epoch 300: Train Loss: {losses[norm][\"train_loss\"][-1]:.4f}, Validation Loss: {losses[norm][\"val_loss\"][-1]:.4f}')"
   ]
  },
  {
   "cell_type": "code",
   "execution_count": 86,
   "id": "d3065b27",
   "metadata": {},
   "outputs": [],
   "source": [
    "def plot_losses(losses):\n",
    "    for norm, loss in losses.items():\n",
    "        plt.figure(figsize=fig_size)\n",
    "        plt.plot(loss['train_loss'], label='Train Loss', color='blue')\n",
    "        plt.plot(loss['val_loss'], label='Validation Loss', color='orange', linestyle='--')\n",
    "        plt.title(f'Training and Validation Loss for Clipping Norm {norm}')\n",
    "        plt.xlabel('Epoch')\n",
    "        plt.ylabel('Loss')\n",
    "        plt.legend()\n",
    "        ax = plt.gca()\n",
    "        ax.spines['right'].set_visible(False)\n",
    "        ax.spines['top'].set_visible(False)\n",
    "        plt.savefig(f'{figures_path}losses_clipnorm_{norm}.pdf')\n",
    "        plt.close()\n",
    "\n",
    "plot_losses(losses)\n",
    "\n",
    "# Plot the loss between epoch 200 and 300 for the best clip norm\n",
    "def plot_best_norm_loss(losses, best_norm):\n",
    "    plt.figure(figsize=fig_size)\n",
    "    num_epochs = len(losses[best_norm]['train_loss'])\n",
    "    last_100_epoches = range(num_epochs - 99, num_epochs + 1)\n",
    "    plt.plot(last_100_epoches, losses[best_norm]['train_loss'][200:], label='Train Loss', color='blue')\n",
    "    plt.plot(last_100_epoches, losses[best_norm]['val_loss'][200:], label='Validation Loss', color='orange', linestyle='--')\n",
    "    plt.title(f'Training and Validation Loss for Clipping Norm {best_norm} (Last 100 Epochs)')\n",
    "    plt.xlabel('Epoch')\n",
    "    plt.ylabel('Loss')\n",
    "    plt.legend()\n",
    "    ax = plt.gca()\n",
    "    ax.spines['right'].set_visible(False)\n",
    "    ax.spines['top'].set_visible(False)\n",
    "    plt.savefig(f'{figures_path}losses_best_clipnorm_{best_norm}.pdf')\n",
    "    plt.close()\n",
    "\n",
    "plot_best_norm_loss(losses, 3.0)"
   ]
  },
  {
   "cell_type": "code",
   "execution_count": null,
   "id": "495764b8",
   "metadata": {},
   "outputs": [],
   "source": []
  }
 ],
 "metadata": {
  "kernelspec": {
   "display_name": "movielens",
   "language": "python",
   "name": "python3"
  },
  "language_info": {
   "codemirror_mode": {
    "name": "ipython",
    "version": 3
   },
   "file_extension": ".py",
   "mimetype": "text/x-python",
   "name": "python",
   "nbconvert_exporter": "python",
   "pygments_lexer": "ipython3",
   "version": "3.11.8"
  }
 },
 "nbformat": 4,
 "nbformat_minor": 5
}
